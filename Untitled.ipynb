{
 "cells": [
  {
   "cell_type": "code",
   "execution_count": 1,
   "id": "4b0c07f1-057c-40b8-9425-67b6696fea8f",
   "metadata": {},
   "outputs": [],
   "source": [
    "import pandas as pd\n",
    "import tkinter as tk\n",
    "import matplotlib\n",
    "from matplotlib.backends.backend_tkagg import FigureCanvasTkAgg,NavigationToolbar2Tk"
   ]
  },
  {
   "cell_type": "code",
   "execution_count": 2,
   "id": "0886a8f5-a5d6-49c3-9d7a-559c6bd7b85f",
   "metadata": {},
   "outputs": [
    {
     "name": "stdout",
     "output_type": "stream",
     "text": [
      "<module 'matplotlib.backends' from 'C:\\\\Users\\\\Student\\\\AppData\\\\Local\\\\Programs\\\\Python\\\\Python313\\\\Lib\\\\site-packages\\\\matplotlib\\\\backends\\\\__init__.py'>\n"
     ]
    }
   ],
   "source": [
    "print(matplotlib.backends)"
   ]
  },
  {
   "cell_type": "code",
   "execution_count": null,
   "id": "3eb01a0f-1dea-41b7-ac1c-8837f526b9ef",
   "metadata": {},
   "outputs": [],
   "source": [
    "# create a tk window \n",
    "root=tk.Tk()\n",
    "root.title('Dashboard')\n",
    "root.state('zoomed')\n",
    "\n",
    "# create upper frame\n",
    "upper_frame=tk.Frame(root)\n",
    "upper_frame.pack(fill='both',expand=True)\n",
    "\n",
    "# adding the first plot in the main frame\n",
    "canvas1=FigureCanvasTkAgg(axs[0],upperframe)\n",
    "canvas1.draw()\n",
    "canvas1.get_tk_widget().pack(side='left',fill='both',expand=True)\n",
    "\n",
    "\n",
    "\n",
    "\n",
    "\n",
    "\n",
    "\n",
    "\n",
    "root.mainloop()"
   ]
  },
  {
   "cell_type": "code",
   "execution_count": null,
   "id": "612ae443-923a-4a4b-9a6c-4e6eefa7735a",
   "metadata": {},
   "outputs": [],
   "source": []
  }
 ],
 "metadata": {
  "kernelspec": {
   "display_name": "Python 3 (ipykernel)",
   "language": "python",
   "name": "python3"
  },
  "language_info": {
   "codemirror_mode": {
    "name": "ipython",
    "version": 3
   },
   "file_extension": ".py",
   "mimetype": "text/x-python",
   "name": "python",
   "nbconvert_exporter": "python",
   "pygments_lexer": "ipython3",
   "version": "3.13.2"
  }
 },
 "nbformat": 4,
 "nbformat_minor": 5
}
