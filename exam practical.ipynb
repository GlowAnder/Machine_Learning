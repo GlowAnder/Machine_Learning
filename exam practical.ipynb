{
 "cells": [
  {
   "cell_type": "markdown",
   "id": "39769994-2ca9-4e57-b2c7-ec68a16505a9",
   "metadata": {},
   "source": [
    "IMPORTING LIBRARIES"
   ]
  },
  {
   "cell_type": "code",
   "execution_count": 19,
   "id": "7cad640e-d30d-45a6-9c19-5c9b99d11ce3",
   "metadata": {},
   "outputs": [],
   "source": [
    "import pandas as pd\n",
    "import matplotlib.pyplot as plt\n",
    "from sklearn.linear_model import LinearRegression\n",
    "import csv\n",
    "import numpy as np"
   ]
  },
  {
   "cell_type": "markdown",
   "id": "c76c72bb-e30f-4c73-bf4a-a01e2687764f",
   "metadata": {},
   "source": [
    "DATA FRAME CREATION"
   ]
  },
  {
   "cell_type": "code",
   "execution_count": 20,
   "id": "a5dc6966-181d-4e28-98ab-bb22de2ee43b",
   "metadata": {},
   "outputs": [
    {
     "data": {
      "text/html": [
       "<div>\n",
       "<style scoped>\n",
       "    .dataframe tbody tr th:only-of-type {\n",
       "        vertical-align: middle;\n",
       "    }\n",
       "\n",
       "    .dataframe tbody tr th {\n",
       "        vertical-align: top;\n",
       "    }\n",
       "\n",
       "    .dataframe thead th {\n",
       "        text-align: right;\n",
       "    }\n",
       "</style>\n",
       "<table border=\"1\" class=\"dataframe\">\n",
       "  <thead>\n",
       "    <tr style=\"text-align: right;\">\n",
       "      <th></th>\n",
       "      <th>car weight(ibs)</th>\n",
       "      <th>MPG</th>\n",
       "    </tr>\n",
       "  </thead>\n",
       "  <tbody>\n",
       "    <tr>\n",
       "      <th>0</th>\n",
       "      <td>1500</td>\n",
       "      <td>30</td>\n",
       "    </tr>\n",
       "    <tr>\n",
       "      <th>1</th>\n",
       "      <td>1800</td>\n",
       "      <td>28</td>\n",
       "    </tr>\n",
       "    <tr>\n",
       "      <th>2</th>\n",
       "      <td>2000</td>\n",
       "      <td>25</td>\n",
       "    </tr>\n",
       "    <tr>\n",
       "      <th>3</th>\n",
       "      <td>2500</td>\n",
       "      <td>20</td>\n",
       "    </tr>\n",
       "    <tr>\n",
       "      <th>4</th>\n",
       "      <td>3000</td>\n",
       "      <td>18</td>\n",
       "    </tr>\n",
       "  </tbody>\n",
       "</table>\n",
       "</div>"
      ],
      "text/plain": [
       "   car weight(ibs)  MPG\n",
       "0             1500   30\n",
       "1             1800   28\n",
       "2             2000   25\n",
       "3             2500   20\n",
       "4             3000   18"
      ]
     },
     "execution_count": 20,
     "metadata": {},
     "output_type": "execute_result"
    }
   ],
   "source": [
    "dataset={'car weight(ibs)':[1500,1800,2000,2500,3000],\n",
    "        'MPG':[30,28,25,20,18]}\n",
    "df=pd.DataFrame(dataset)\n",
    "df"
   ]
  },
  {
   "cell_type": "markdown",
   "id": "42c38c51-8f5e-4ab3-9604-bde4496c1729",
   "metadata": {},
   "source": [
    "INITIALIZING WEIGHT AND BIAS VALUES"
   ]
  },
  {
   "cell_type": "code",
   "execution_count": 21,
   "id": "43701540-90a0-4b1e-a6ec-2224a0acd96d",
   "metadata": {},
   "outputs": [
    {
     "name": "stdout",
     "output_type": "stream",
     "text": [
      "the initial weight value is 0.3745401188473625 and the initial bias value is 0.9507143064099162\n"
     ]
    }
   ],
   "source": [
    "np.random.seed(42)\n",
    "weight=np.random.rand()\n",
    "bias=np.random.rand()\n",
    "\n",
    "print(f'the initial weight value is {weight} and the initial bias value is {bias}')"
   ]
  },
  {
   "cell_type": "code",
   "execution_count": 22,
   "id": "74fda41b-3d2a-42a8-bb08-5dac0668770a",
   "metadata": {},
   "outputs": [
    {
     "data": {
      "text/plain": [
       "562.7608925774537"
      ]
     },
     "execution_count": 22,
     "metadata": {},
     "output_type": "execute_result"
    }
   ],
   "source": [
    "prediction=(weight*1500)+bias\n",
    "prediction"
   ]
  },
  {
   "cell_type": "markdown",
   "id": "fc3578e8-b4c5-4591-84ad-feefa5060d48",
   "metadata": {},
   "source": [
    "LOSS AND GRADIENT"
   ]
  },
  {
   "cell_type": "code",
   "execution_count": 48,
   "id": "22560a3e-4ee2-44f0-819f-1c474662bfdf",
   "metadata": {},
   "outputs": [],
   "source": [
    "def compute_loss(weight,bias,features,actual_value,learning_rate=0.0001):\n",
    "    prediction=(weight*features)+bias\n",
    "    return np.mean((prediction-actual_value)**2)"
   ]
  },
  {
   "cell_type": "code",
   "execution_count": 49,
   "id": "b8254de9-8e80-4f99-b084-3d459e296c50",
   "metadata": {},
   "outputs": [],
   "source": [
    "x=df[['car weight(ibs)']].values\n",
    "y=df['MPG'].values\n",
    "n=len(x)"
   ]
  },
  {
   "cell_type": "code",
   "execution_count": 50,
   "id": "b8a2d0f9-9a0f-410e-a17e-5e3a54445159",
   "metadata": {},
   "outputs": [
    {
     "data": {
      "text/plain": [
       "(np.float64(-356.36071869905845), np.float64(0.44290792691735337))"
      ]
     },
     "execution_count": 50,
     "metadata": {},
     "output_type": "execute_result"
    }
   ],
   "source": [
    "def gradient_descent(weight,bias,features,actual_value,learning_rate=0.0001):\n",
    "    n=len(features)\n",
    "    prediction=(weight*features)+bias\n",
    "    loss=prediction-actual_value\n",
    "    \n",
    "    weight_gradient=(2/n)*np.sum(loss*features)\n",
    "    bias_gradient=(2/n)*np.sum(loss)\n",
    "\n",
    "    weight-=weight_gradient*learning_rate\n",
    "    bias-=bias_gradient*learning_rate\n",
    "\n",
    "    return weight,bias\n",
    "\n",
    "    # print(f'the updated weight value is  {weight}') \n",
    "    # print(f' the updated bias value is   {bias}')\n",
    "weight=np.random.rand()\n",
    "bias=np.random.rand()\n",
    "gradient_descent(weight,bias,x,y,0.0001)"
   ]
  },
  {
   "cell_type": "code",
   "execution_count": 51,
   "id": "074420c9-f925-42a2-936b-120576a3701e",
   "metadata": {},
   "outputs": [
    {
     "name": "stdout",
     "output_type": "stream",
     "text": [
      "the loss of the model is [np.float64(16078616010767.525), np.float64(3.9348904861706355e+20), np.float64(9.62978600138046e+27), np.float64(2.3566800336196617e+35), np.float64(5.767460232309827e+42), np.float64(1.4114600648686813e+50), np.float64(3.454240574661462e+57), np.float64(8.453500204943907e+64), np.float64(2.0688097476242063e+72), np.float64(5.0629605111523534e+79), np.float64(1.2390491279792814e+87), np.float64(3.032302421013332e+94), np.float64(7.420898626900175e+101), np.float64(1.8161030393639217e+109), np.float64(4.4445159749670354e+116), np.float64(1.0876983201710722e+124), np.float64(2.6619043386647907e+131), np.float64(6.51443012901592e+138), np.float64(1.594264650664236e+146), np.float64(3.901614916455493e+153), np.float64(9.548351304136136e+160), np.float64(2.3367506681060297e+168), np.float64(5.718687458146464e+175), np.float64(1.399523992453515e+183), np.float64(3.425029641483269e+190), np.float64(8.382012818853944e+197), np.float64(2.0513147694980337e+205), np.float64(5.020145369016634e+212), np.float64(1.2285710560269685e+220), np.float64(3.0066596258802863e+227), np.float64(7.358143480225493e+234), np.float64(1.800745086325932e+242), np.float64(4.406930735506147e+249), np.float64(1.0785001527991707e+257), np.float64(2.6393938307592724e+264), np.float64(6.4593405719686855e+271), np.float64(1.580782683449642e+279), np.float64(3.868620743019039e+286), np.float64(9.467605262892513e+293), np.float64(2.3169898361243655e+301), np.float64(inf), np.float64(inf), np.float64(inf), np.float64(inf), np.float64(inf), np.float64(inf), np.float64(inf), np.float64(inf), np.float64(inf), np.float64(inf), np.float64(inf), np.float64(inf), np.float64(inf), np.float64(inf), np.float64(inf), np.float64(inf), np.float64(inf), np.float64(inf), np.float64(inf), np.float64(inf), np.float64(inf), np.float64(inf), np.float64(inf), np.float64(inf), np.float64(inf), np.float64(inf), np.float64(inf), np.float64(inf), np.float64(inf), np.float64(inf), np.float64(inf), np.float64(inf), np.float64(inf), np.float64(inf), np.float64(inf), np.float64(inf), np.float64(inf), np.float64(inf), np.float64(inf), np.float64(inf), np.float64(inf), np.float64(inf), np.float64(inf), np.float64(nan), np.float64(nan), np.float64(nan), np.float64(nan), np.float64(nan), np.float64(nan), np.float64(nan), np.float64(nan), np.float64(nan), np.float64(nan), np.float64(nan), np.float64(nan), np.float64(nan), np.float64(nan), np.float64(nan), np.float64(nan), np.float64(nan)]\n",
      "nan nan\n"
     ]
    },
    {
     "name": "stderr",
     "output_type": "stream",
     "text": [
      "C:\\Users\\Student\\AppData\\Local\\Temp\\ipykernel_8360\\1944549043.py:3: RuntimeWarning: overflow encountered in square\n",
      "  return np.mean((prediction-actual_value)**2)\n",
      "C:\\Users\\Student\\AppData\\Local\\Temp\\ipykernel_8360\\1014956124.py:6: RuntimeWarning: overflow encountered in multiply\n",
      "  weight_gradient=(2/n)*np.sum(loss*features)\n",
      "C:\\Users\\Student\\AppData\\Local\\Temp\\ipykernel_8360\\1014956124.py:9: RuntimeWarning: invalid value encountered in scalar subtract\n",
      "  weight-=weight_gradient*learning_rate\n"
     ]
    }
   ],
   "source": [
    "np.random.seed(42)\n",
    "weight=np.random.rand()\n",
    "bias=np.random.rand()\n",
    "\n",
    "learning_rate=0.0001\n",
    "iterations=100\n",
    "loss_history=[]\n",
    "\n",
    "for f in range (iterations):\n",
    "    weight,bias=gradient_descent(weight,bias,x,y)\n",
    "    loss=compute_loss(weight,bias,x,y)\n",
    "    loss_history.append(loss)\n",
    "\n",
    "print(f'the loss of the model is {loss_history}')\n",
    "print(weight,bias)"
   ]
  },
  {
   "cell_type": "markdown",
   "id": "130b29c3-1ac1-44ab-9069-aa43d5580bf0",
   "metadata": {},
   "source": [
    "MANUAL CALCULATION"
   ]
  },
  {
   "cell_type": "code",
   "execution_count": 55,
   "id": "b12b654a-bdbf-42af-9700-e1f84500e03b",
   "metadata": {},
   "outputs": [
    {
     "name": "stdout",
     "output_type": "stream",
     "text": [
      "the loss calculated manually is : [532.76089258]\n"
     ]
    }
   ],
   "source": [
    "np.random.seed(42)\n",
    "weight=np.random.rand()\n",
    "bias=np.random.rand()\n",
    "\n",
    "learning_rate=0.0001\n",
    "\n",
    "x=df[['car weight(ibs)']].values\n",
    "y=df['MPG'].values\n",
    "n=1\n",
    "\n",
    "prediction=(weight*x[0])+bias\n",
    "loss=prediction-y[0]\n",
    "\n",
    "weight_gradient=(2/n)*np.sum(loss*x[0])\n",
    "bias_gradient=(2/n)*np.sum(loss)\n",
    "\n",
    "weight-=weight_gradient*learning_rate\n",
    "bias-=bias_gradient*learning_rate\n",
    "\n",
    "print(f'the loss calculated manually is : {loss}')\n",
    "\n",
    "# return weight,bias\n"
   ]
  },
  {
   "cell_type": "markdown",
   "id": "90065fdd-b38f-4bfd-b1d4-354ef61788e2",
   "metadata": {},
   "source": [
    "MODEL TRAINING"
   ]
  },
  {
   "cell_type": "code",
   "execution_count": 56,
   "id": "5fd0bbc7-20cc-4c21-a528-e7256171e0de",
   "metadata": {},
   "outputs": [
    {
     "name": "stdout",
     "output_type": "stream",
     "text": [
      "Model Weight (Coefficient): -0.008470254957507084\n",
      "Model Bias (Intercept): 42.4957507082153\n",
      "the predicted MPG is :21.32011331444759\n"
     ]
    },
    {
     "name": "stderr",
     "output_type": "stream",
     "text": [
      "C:\\Users\\Student\\AppData\\Local\\Programs\\Python\\Python313\\Lib\\site-packages\\sklearn\\utils\\validation.py:2732: UserWarning: X has feature names, but LinearRegression was fitted without feature names\n",
      "  warnings.warn(\n"
     ]
    }
   ],
   "source": [
    "x=df[['car weight(ibs)']].values\n",
    "y=df['MPG'].values\n",
    "n=len('features')\n",
    "\n",
    "model=LinearRegression()\n",
    "model.fit(x,y)\n",
    "\n",
    "predict=pd.DataFrame({'car weight(ibs)':[2500]})\n",
    "new_MPG=model.predict(predict)[0]\n",
    "\n",
    "print(f\"Model Weight (Coefficient): {model.coef_[0]}\")\n",
    "print(f\"Model Bias (Intercept): {model.intercept_}\")\n",
    "\n",
    "print(f'the predicted MPG is :{new_MPG}')"
   ]
  },
  {
   "cell_type": "markdown",
   "id": "ffbe169a-18b3-4c3c-95c2-265ca83ccff3",
   "metadata": {},
   "source": [
    "VISUALISATION"
   ]
  },
  {
   "cell_type": "code",
   "execution_count": 58,
   "id": "d8ca008a-8672-422d-83a1-be5b2703129c",
   "metadata": {},
   "outputs": [
    {
     "data": {
      "image/png": "[encoded data removed]",
      "text/plain": [
       "<Figure size 1600x400 with 2 Axes>"
      ]
     },
     "metadata": {},
     "output_type": "display_data"
    }
   ],
   "source": [
    "plt.figure(figsize=(16,4))\n",
    "plt.subplot(1,2,1)\n",
    "plt.plot(range(iterations),loss_history,color='gray',linestyle='-')\n",
    "plt.title('LOSS CURVE')\n",
    "plt.xlabel('ITERATIONS')\n",
    "plt.ylabel('MSE LOSS')\n",
    "plt.grid()\n",
    "\n",
    "plt.subplot(1,2,2)\n",
    "plt.scatter(x,y,label='Dataset')\n",
    "plt.plot(x,model.predict(x),marker='p',linestyle='--',label='sklearn_model')\n",
    "plt.plot(x,weight*x+bias,color='green',linestyle='-',label='manually_calculated_gradient')\n",
    "plt.title('SCATTER PLOT OF GRADIENT')\n",
    "plt.xlabel('CARS WEIGHT (ibs')\n",
    "plt.ylabel('MPG')\n",
    "plt.grid()\n",
    "plt.legend()\n",
    "\n",
    "plt.tight_layout()\n",
    "plt.show()"
   ]
  },
  {
   "cell_type": "code",
   "execution_count": null,
   "id": "09e98d21-5293-49f4-b8f8-69ac66eaafb2",
   "metadata": {},
   "outputs": [],
   "source": []
  }
 ],
 "metadata": {
  "kernelspec": {
   "display_name": "Python 3 (ipykernel)",
   "language": "python",
   "name": "python3"
  },
  "language_info": {
   "codemirror_mode": {
    "name": "ipython",
    "version": 3
   },
   "file_extension": ".py",
   "mimetype": "text/x-python",
   "name": "python",
   "nbconvert_exporter": "python",
   "pygments_lexer": "ipython3",
   "version": "3.13.2"
  }
 },
 "nbformat": 4,
 "nbformat_minor": 5
}
